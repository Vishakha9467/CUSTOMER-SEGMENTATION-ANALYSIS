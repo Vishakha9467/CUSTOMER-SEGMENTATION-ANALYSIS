{
 "cells": [
  {
   "cell_type": "code",
   "execution_count": 1,
   "id": "bd56433c-c476-4d68-8e44-1cca5fcaaebf",
   "metadata": {},
   "outputs": [
    {
     "name": "stdout",
     "output_type": "stream",
     "text": [
      "Requirement already satisfied: python-pptx in c:\\users\\vishakha\\anaconda\\lib\\site-packages (0.6.23)\n",
      "Requirement already satisfied: lxml>=3.1.0 in c:\\users\\vishakha\\anaconda\\lib\\site-packages (from python-pptx) (5.2.1)\n",
      "Requirement already satisfied: Pillow>=3.3.2 in c:\\users\\vishakha\\anaconda\\lib\\site-packages (from python-pptx) (10.3.0)\n",
      "Requirement already satisfied: XlsxWriter>=0.5.7 in c:\\users\\vishakha\\anaconda\\lib\\site-packages (from python-pptx) (3.2.0)\n"
     ]
    }
   ],
   "source": [
    "!pip install python-pptx"
   ]
  },
  {
   "cell_type": "code",
   "execution_count": 2,
   "id": "afe7d7f6-7fe2-4598-a15f-8ba60514802e",
   "metadata": {},
   "outputs": [],
   "source": [
    "import pandas as pd\n",
    "import matplotlib.pyplot as plt\n",
    "import seaborn as sns\n",
    "from pptx import Presentation\n",
    "from pptx.util import Inches"
   ]
  },
  {
   "cell_type": "code",
   "execution_count": 3,
   "id": "de4fd3de-6686-4993-9941-7afea3d3b2f9",
   "metadata": {},
   "outputs": [],
   "source": [
    "transactions_df = pd.read_csv('Retail_Data_Transactions.csv')\n",
    "response_df = pd.read_csv('Retail_Data_Response.csv')"
   ]
  },
  {
   "cell_type": "code",
   "execution_count": 4,
   "id": "ca067c6b-db26-4a9b-b440-1dc2ed9ea54d",
   "metadata": {},
   "outputs": [],
   "source": [
    "transactions_df['trans_date'] = pd.to_datetime(transactions_df['trans_date'], format='%d-%b-%y')"
   ]
  },
  {
   "cell_type": "code",
   "execution_count": 5,
   "id": "5c89fab5-5b0c-4fbe-b832-58730fdea59e",
   "metadata": {},
   "outputs": [],
   "source": [
    "merged_df = pd.merge(transactions_df, response_df, on='customer_id')"
   ]
  },
  {
   "cell_type": "code",
   "execution_count": 6,
   "id": "ef306325-565c-414d-9f3f-d1b102c73f03",
   "metadata": {},
   "outputs": [],
   "source": [
    "merged_df['year_month'] = merged_df['trans_date'].dt.to_period('M')"
   ]
  },
  {
   "cell_type": "code",
   "execution_count": 7,
   "id": "986e3141-929d-48fc-9088-1ad609d358bc",
   "metadata": {},
   "outputs": [],
   "source": [
    "# Pie chart\n",
    "response_counts = merged_df['response'].value_counts()\n",
    "response_labels = ['Did Not Respond', 'Responded']\n",
    "plt.figure(figsize=(8, 8))\n",
    "plt.pie(response_counts, labels=response_labels, autopct='%1.1f%%', colors=['red', 'green'])\n",
    "plt.title('Proportion of Customer Responses')\n",
    "plt.savefig('C:/Users/VISHAKHA/OneDrive/Desktop/PROJECT_IS/response_proportion.png')\n",
    "plt.close()"
   ]
  },
  {
   "cell_type": "code",
   "execution_count": 8,
   "id": "7e2583a4-c42f-4bb3-82f8-6809b389b8f9",
   "metadata": {},
   "outputs": [
    {
     "name": "stderr",
     "output_type": "stream",
     "text": [
      "C:\\Users\\VISHAKHA\\AppData\\Local\\Temp\\ipykernel_13888\\3252379107.py:3: FutureWarning: \n",
      "\n",
      "Passing `palette` without assigning `hue` is deprecated and will be removed in v0.14.0. Assign the `x` variable to `hue` and set `legend=False` for the same effect.\n",
      "\n",
      "  sns.barplot(x='response', y='tran_amount', data=avg_trans_by_response, palette=['red', 'green'])\n"
     ]
    }
   ],
   "source": [
    "avg_trans_by_response = merged_df.groupby('response')['tran_amount'].mean().reset_index()\n",
    "plt.figure(figsize=(8, 6))\n",
    "sns.barplot(x='response', y='tran_amount', data=avg_trans_by_response, palette=['red', 'green'])\n",
    "plt.title('Average Transaction Amount by Response')\n",
    "plt.xlabel('Response (0 = Did Not Respond, 1 = Responded)')\n",
    "plt.ylabel('Average Transaction Amount')\n",
    "plt.xticks([0, 1], ['Did Not Respond', 'Responded'])\n",
    "plt.savefig('C:/Users/VISHAKHA/OneDrive/Desktop/PROJECT_IS/avg_transaction_response.png')\n",
    "plt.close()"
   ]
  },
  {
   "cell_type": "code",
   "execution_count": 9,
   "id": "f1ec45f3-1c40-4020-9a77-86504d36570b",
   "metadata": {},
   "outputs": [
    {
     "name": "stderr",
     "output_type": "stream",
     "text": [
      "C:\\Users\\VISHAKHA\\AppData\\Local\\Temp\\ipykernel_13888\\399892704.py:4: FutureWarning: \n",
      "\n",
      "Passing `palette` without assigning `hue` is deprecated and will be removed in v0.14.0. Assign the `x` variable to `hue` and set `legend=False` for the same effect.\n",
      "\n",
      "  sns.barplot(x='response', y='count', data=trans_freq_by_response, palette=['red', 'green'])\n"
     ]
    }
   ],
   "source": [
    "trans_freq_by_response = merged_df['response'].value_counts().reset_index()\n",
    "trans_freq_by_response.columns = ['response', 'count']\n",
    "plt.figure(figsize=(8, 6))\n",
    "sns.barplot(x='response', y='count', data=trans_freq_by_response, palette=['red', 'green'])\n",
    "plt.title('Transaction Frequency by Response')\n",
    "plt.xlabel('Response (0 = Did Not Respond, 1 = Responded)')\n",
    "plt.ylabel('Number of Transactions')\n",
    "plt.xticks([0, 1], ['Did Not Respond', 'Responded'])\n",
    "plt.savefig('C:/Users/VISHAKHA/OneDrive/Desktop/PROJECT_IS/trans_freq_response.png')\n",
    "plt.close()"
   ]
  },
  {
   "cell_type": "code",
   "execution_count": 10,
   "id": "6d702e0a-837b-48d0-9531-909c73fb8988",
   "metadata": {},
   "outputs": [],
   "source": [
    "total_trans_by_date_response = merged_df.groupby(['year_month', 'response'])['tran_amount'].sum().unstack().fillna(0)\n",
    "total_trans_by_date_response.plot(kind='line', figsize=(12, 6), title='Total Transaction Amount Over Time by Response')\n",
    "plt.xlabel('Year-Month')\n",
    "plt.ylabel('Total Transaction Amount')\n",
    "plt.savefig('C:/Users/VISHAKHA/OneDrive/Desktop/PROJECT_IS/total_trans_over_time.png')\n",
    "plt.close()"
   ]
  },
  {
   "cell_type": "code",
   "execution_count": 11,
   "id": "fb3d84fc-a3cc-4dda-8101-ef8cfe7a3cb7",
   "metadata": {},
   "outputs": [],
   "source": [
    "from pptx import Presentation\n",
    "from pptx.util import Inches"
   ]
  },
  {
   "cell_type": "code",
   "execution_count": 12,
   "id": "218235a2-87db-4f6b-923b-c743b31de2fb",
   "metadata": {},
   "outputs": [],
   "source": [
    "prs = Presentation()"
   ]
  },
  {
   "cell_type": "code",
   "execution_count": 13,
   "id": "5bdbd11c-b6ff-4748-9cce-4825e628bca1",
   "metadata": {},
   "outputs": [],
   "source": [
    "slide = prs.slides.add_slide(prs.slide_layouts[0])\n",
    "title = slide.shapes.title\n",
    "subtitle = slide.placeholders[1]\n",
    "title.text = \"Customer Response and Transaction Analysis\"\n",
    "subtitle.text = \"Key Insights and Strategic Recommendations\""
   ]
  },
  {
   "cell_type": "code",
   "execution_count": 14,
   "id": "7891dfd5-6887-41ba-a473-a33ae1325e8e",
   "metadata": {},
   "outputs": [],
   "source": [
    "slide = prs.slides.add_slide(prs.slide_layouts[1])\n",
    "title, content = slide.shapes.title, slide.placeholders[1]\n",
    "title.text = \"Executive Summary\"\n",
    "content.text = (\n",
    "    \"Key Points:\\n\"\n",
    "    \"- Response Rate: Overview of customer response rates.\\n\"\n",
    "    \"- CLV Differences: Higher Customer Lifetime Value (CLV) for responders.\\n\"\n",
    "    \"- Transaction Patterns: Increased frequency and amounts for responders.\\n\"\n",
    "    \"- RFM Insights: High RFM scores for responders.\\n\"\n",
    "    \"- Recommendations: Targeted campaigns, retention programs, enhanced customer experience, and data-driven strategies.\"\n",
    ")"
   ]
  },
  {
   "cell_type": "code",
   "execution_count": 15,
   "id": "6f039429-cdcf-43be-89be-93526bfe096f",
   "metadata": {},
   "outputs": [
    {
     "data": {
      "text/plain": [
       "<pptx.shapes.picture.Picture at 0x1f8f8e76990>"
      ]
     },
     "execution_count": 15,
     "metadata": {},
     "output_type": "execute_result"
    }
   ],
   "source": [
    "slide = prs.slides.add_slide(prs.slide_layouts[5])\n",
    "title = slide.shapes.title\n",
    "title.text = \"Customer Response Analysis\"\n",
    "slide.shapes.add_picture('C:/Users/VISHAKHA/OneDrive/Desktop/PROJECT_IS/response_proportion.png', Inches(1), Inches(1.5), height=Inches(5.5))"
   ]
  },
  {
   "cell_type": "code",
   "execution_count": 16,
   "id": "cd4a707a-9682-4bc7-9ad2-dfab607dd363",
   "metadata": {},
   "outputs": [
    {
     "data": {
      "text/plain": [
       "<pptx.shapes.picture.Picture at 0x1f8fa3bac60>"
      ]
     },
     "execution_count": 16,
     "metadata": {},
     "output_type": "execute_result"
    }
   ],
   "source": [
    "slide = prs.slides.add_slide(prs.slide_layouts[5])\n",
    "title = slide.shapes.title\n",
    "title.text = \"Average Transaction Amount by Response\"\n",
    "slide.shapes.add_picture('C:/Users/VISHAKHA/OneDrive/Desktop/PROJECT_IS/avg_transaction_response.png', Inches(1), Inches(1.5), height=Inches(5.5))"
   ]
  },
  {
   "cell_type": "code",
   "execution_count": 17,
   "id": "86416584-73e7-4937-8a70-244e6acd708d",
   "metadata": {},
   "outputs": [
    {
     "data": {
      "text/plain": [
       "<pptx.shapes.picture.Picture at 0x1f8fa3cddc0>"
      ]
     },
     "execution_count": 17,
     "metadata": {},
     "output_type": "execute_result"
    }
   ],
   "source": [
    "slide = prs.slides.add_slide(prs.slide_layouts[5])\n",
    "title = slide.shapes.title\n",
    "title.text = \"Transaction Frequency by Response\"\n",
    "slide.shapes.add_picture('C:/Users/VISHAKHA/OneDrive/Desktop/PROJECT_IS/trans_freq_response.png', Inches(1), Inches(1.5), height=Inches(5.5))"
   ]
  },
  {
   "cell_type": "code",
   "execution_count": 18,
   "id": "e484a60c-2557-475b-a8fc-82c45617ae01",
   "metadata": {},
   "outputs": [
    {
     "data": {
      "text/plain": [
       "<pptx.shapes.picture.Picture at 0x1f8fa987bf0>"
      ]
     },
     "execution_count": 18,
     "metadata": {},
     "output_type": "execute_result"
    }
   ],
   "source": [
    "slide = prs.slides.add_slide(prs.slide_layouts[5])\n",
    "title = slide.shapes.title\n",
    "title.text = \"Total Transaction Amount Over Time by Response\"\n",
    "slide.shapes.add_picture('C:/Users/VISHAKHA/OneDrive/Desktop/PROJECT_IS/total_trans_over_time.png', Inches(1), Inches(1.5), height=Inches(5.5))"
   ]
  },
  {
   "cell_type": "code",
   "execution_count": 19,
   "id": "1785f41e-2fa9-4c32-b42e-e61af16e55ac",
   "metadata": {},
   "outputs": [],
   "source": [
    "slide = prs.slides.add_slide(prs.slide_layouts[1])\n",
    "title, content = slide.shapes.title, slide.placeholders[1]\n",
    "title.text = \"Strategic Recommendations\"\n",
    "content.text = (\n",
    "    \"1. Focus on Engagement:\\n\"\n",
    "    \"- Targeted Campaigns: Personalized offers and communication to convert non-responders.\\n\"\n",
    "    \"- Retention Programs: Loyalty programs for high-value responders.\\n\\n\"\n",
    "    \"2. Enhance Customer Experience:\\n\"\n",
    "    \"- Feedback Mechanism: Understand and address non-responders' concerns.\\n\"\n",
    "    \"- Customer Support: Improve services to enhance satisfaction and engagement.\\n\\n\"\n",
    "    \"3. Optimize Marketing Spend:\\n\"\n",
    "    \"- ROI Focus: Allocate budget towards high RFM score segments.\\n\"\n",
    "    \"- Seasonal Campaigns: Run targeted promotions during peak periods.\\n\\n\"\n",
    "    \"4. Continuous Monitoring and Analysis:\\n\"\n",
    "    \"- Regular Analysis: Monitor customer behavior and campaign performance.\\n\"\n",
    "    \"- Data-Driven Decisions: Use data analytics to guide strategies.\"\n",
    ")"
   ]
  },
  {
   "cell_type": "code",
   "execution_count": 20,
   "id": "ef01daf8-11de-4748-8fab-1778bd412f5d",
   "metadata": {},
   "outputs": [],
   "source": [
    "slide = prs.slides.add_slide(prs.slide_layouts[1])\n",
    "title, content = slide.shapes.title, slide.placeholders[1]\n",
    "title.text = \"Conclusion and Next Steps\"\n",
    "content.text = (\n",
    "    \"Summary:\\n\"\n",
    "    \"- Key Findings: Higher CLV and transaction amounts for responders.\\n\"\n",
    "    \"- Strategic Actions: Implement targeted campaigns, enhance customer experience, optimize marketing spend, and ensure continuous monitoring.\\n\\n\"\n",
    "    \"Next Steps:\\n\"\n",
    "    \"- Develop and launch targeted marketing campaigns.\\n\"\n",
    "    \"- Implement loyalty and feedback programs.\\n\"\n",
    "    \"- Allocate marketing budget strategically.\\n\"\n",
    "    \"- Establish regular analysis and reporting processes.\"\n",
    ")"
   ]
  },
  {
   "cell_type": "code",
   "execution_count": 21,
   "id": "37ff455f-b015-438c-8343-d4b74382ada1",
   "metadata": {},
   "outputs": [],
   "source": [
    "prs.save('C:/Users/VISHAKHA/OneDrive/Desktop/PROJECT_IS/Customer_Response_Analysis_Presentation.pptx')"
   ]
  }
 ],
 "metadata": {
  "kernelspec": {
   "display_name": "Python 3 (ipykernel)",
   "language": "python",
   "name": "python3"
  },
  "language_info": {
   "codemirror_mode": {
    "name": "ipython",
    "version": 3
   },
   "file_extension": ".py",
   "mimetype": "text/x-python",
   "name": "python",
   "nbconvert_exporter": "python",
   "pygments_lexer": "ipython3",
   "version": "3.12.4"
  }
 },
 "nbformat": 4,
 "nbformat_minor": 5
}
